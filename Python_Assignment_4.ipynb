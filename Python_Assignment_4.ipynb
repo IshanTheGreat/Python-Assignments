{
 "cells": [
  {
   "cell_type": "markdown",
   "metadata": {},
   "source": [
    "### 1.1 Write a Python Program(with class concepts) to find the area of the triangle using the below formula.\n",
    "###     area = (s*(s-a)*(s-b)*(s-c)) ** 0.5\n",
    "###     Function to take the length of the sides of triangle from user should be defined in the parent\n",
    "###     class and function to calculate the area should be defined in subclass."
   ]
  },
  {
   "cell_type": "code",
   "execution_count": 7,
   "metadata": {},
   "outputs": [
    {
     "name": "stdout",
     "output_type": "stream",
     "text": [
      "Enter side 1 : 34\n",
      "Enter side 2 : 56\n",
      "Enter side 3 : 78\n",
      "Output : Area of traingle : 840.00 \n"
     ]
    }
   ],
   "source": [
    "class Triangle:\n",
    "    def __init__(self):\n",
    "        self.a=float(input(\"Enter side 1 : \"))\n",
    "        self.b=float(input(\"Enter side 2 : \"))\n",
    "        self.c=float(input(\"Enter side 3 : \"))\n",
    "        self.s=(self.a +self.b + self.c)/2\n",
    "    \n",
    "    \n",
    "        \n",
    "        \n",
    "class area_of_triangle(Triangle):\n",
    "    def __init__(self):\n",
    "        super().__init__()\n",
    "    \n",
    "    def area(self):\n",
    "        return (self.s*(self.s-self.a)*(self.s-self.b)*(self.s-self.c))**0.5\n",
    "\n",
    "t1=area_of_triangle()\n",
    "x=t1.area()\n",
    "print(\"Output : Area of traingle : %.2f \"%x)"
   ]
  },
  {
   "cell_type": "markdown",
   "metadata": {},
   "source": [
    "### 1.2 Write a function filter_long_words() that takes a list of words and an integer n and returns\n",
    "### the list of words that are longer than n."
   ]
  },
  {
   "cell_type": "code",
   "execution_count": 3,
   "metadata": {},
   "outputs": [
    {
     "name": "stdout",
     "output_type": "stream",
     "text": [
      "Input : Enter your words separating with ',' I,am,ishan\n",
      "Enter number 3\n",
      "Output : Words having length greater than 3 :  ['ishan']\n"
     ]
    }
   ],
   "source": [
    "l=list(input(\"Input : Enter your words separating with ',' \").split(','))\n",
    "num = int(input(\"Enter number \"))\n",
    "def filter_long_words(list1,n):\n",
    "    c=0\n",
    "    l2=[]\n",
    "    for i in range(len(list1)):\n",
    "        \n",
    "        if len(list1[i])>n:\n",
    "            l2.append(list1[i])\n",
    "    return l2\n",
    "l=filter_long_words(l,num)\n",
    "if(len(l)==0):\n",
    "    print(\"Output : No word is there having length greater than %d\"%num)\n",
    "else:\n",
    "    print(\"Output : Words having length greater than %d : \"%num,l)\n",
    "    "
   ]
  },
  {
   "cell_type": "markdown",
   "metadata": {},
   "source": [
    "### 2.1 Write a Python program using function concept that maps list of words into a list of integers\n",
    "###       representing the lengths of the corresponding words."
   ]
  },
  {
   "cell_type": "code",
   "execution_count": 4,
   "metadata": {},
   "outputs": [
    {
     "name": "stdout",
     "output_type": "stream",
     "text": [
      "Input : Enter your words separating with ',' i,am,ishan\n",
      "Output : List of lenght of words :  [1, 2, 5]\n"
     ]
    }
   ],
   "source": [
    "l=list(input(\"Input : Enter your words separating with ',' \").split(','))\n",
    "def lenList(l):\n",
    "    l1=[]\n",
    "    for i in range(len(l)):\n",
    "        a=len(l[i])\n",
    "        l1.append(a)\n",
    "    return l1\n",
    "print(\"Output : List of lenght of words : \",lenList(l))\n",
    "        "
   ]
  },
  {
   "cell_type": "markdown",
   "metadata": {},
   "source": [
    "### 2.2 Write a Python function which takes a character (i.e. a string of length 1) and returns True if\n",
    "###        it is a vowel, False otherwise."
   ]
  },
  {
   "cell_type": "code",
   "execution_count": 6,
   "metadata": {},
   "outputs": [
    {
     "name": "stdout",
     "output_type": "stream",
     "text": [
      "Input : Enter one character : er\n",
      "PLease enter one character e\n",
      "Output :  True\n"
     ]
    }
   ],
   "source": [
    "n=input(\"Input : Enter one character : \")\n",
    "if(len(n)>1):\n",
    "    \n",
    "    n=input(\"PLease enter one character \")\n",
    "    \n",
    "def checkVowel(n):\n",
    "    if n in 'aeiouAEIOU':\n",
    "        return True\n",
    "    else:\n",
    "        return False\n",
    "print(\"Output : \",checkVowel(n))"
   ]
  },
  {
   "cell_type": "code",
   "execution_count": null,
   "metadata": {},
   "outputs": [],
   "source": []
  }
 ],
 "metadata": {
  "kernelspec": {
   "display_name": "Python 3",
   "language": "python",
   "name": "python3"
  },
  "language_info": {
   "codemirror_mode": {
    "name": "ipython",
    "version": 3
   },
   "file_extension": ".py",
   "mimetype": "text/x-python",
   "name": "python",
   "nbconvert_exporter": "python",
   "pygments_lexer": "ipython3",
   "version": "3.8.0"
  }
 },
 "nbformat": 4,
 "nbformat_minor": 4
}
